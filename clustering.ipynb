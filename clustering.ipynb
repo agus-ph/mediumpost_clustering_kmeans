{
 "cells": [
  {
   "cell_type": "markdown",
   "metadata": {},
   "source": [
    "# ¿Que es clustering? Ejemplo en Python aplicando K-means"
   ]
  },
  {
   "cell_type": "markdown",
   "metadata": {},
   "source": [
    "En pocas palabras clustering (en castellano, agrupamiento o segmentación) es la acción de, a partir de un grupo de elementos, crear subgrupos donde los elementos tengan características similares entre si, y a ala vez diferenciales con otros elementos de otros subgrupos. Se utiliza por ejemplo para segmentar clientes, productos o proveedores."
   ]
  },
  {
   "cell_type": "markdown",
   "metadata": {},
   "source": [
    "¿Cuándo se utiliza? Principalmente cuando recibimos un conjunto de datos \"no etiquetados\", esto quiere decir que no hay una característica dada que nos permita separarlos, como podría ser en el caso de clientes de un banco si estos pagan a tiempo o no sus créditos, si no que por el contrario debemos encontrar cuales son las características que los distinguen entre sí. Por esta característica de utilizar datos no etiquetados es que, en machine learning, se incluye a este algoritmo dentro del grupo de aprendizaje no supervisado."
   ]
  },
  {
   "cell_type": "markdown",
   "metadata": {},
   "source": [
    "Hay muchas técnicas de segmentación. Aquí veremos un ejemplo de aplicación del algoritmo k-means (k-medias) en el lenguaje de programación Python. Les dejo como siempre link a mi GitHub, del cual pueden descargar este articulo en formato Jupyter notebook y el dataset.\n"
   ]
  },
  {
   "cell_type": "markdown",
   "metadata": {},
   "source": [
    "Este algoritmo funciona agrupando los datos alrededor de centroides (k). El número de centroides lo decide el programador, y si bien no hay un método obligatorio para determinar el número optimo de centroides, porque depende del conocimiento del negocio y de la experimentación, si hay métodos que nos pueden servir como guía para decidir el numero de centroides como ser el método del codo y de la silueta."
   ]
  },
  {
   "cell_type": "markdown",
   "metadata": {},
   "source": [
    "### Implementación de algoritmo KMeans"
   ]
  },
  {
   "cell_type": "markdown",
   "metadata": {},
   "source": [
    "Primero importemos las librerías que vamos a utilizar y cargamos el dataset. Para este ejemplo vamos a utilizar al conocido dataset iris.csv, este dataset contiene los datos de variaciones morfológicas de la flor iris de tres especies. Pero como esto no nos interesa y necesitamos un dataset sin etiquetar, solo nos vamos a quedar con dos columnas que utilizaremos para formar los clusters."
   ]
  },
  {
   "cell_type": "code",
   "execution_count": 15,
   "metadata": {},
   "outputs": [],
   "source": [
    "import pandas as pd\n",
    "import matplotlib.pyplot as plt\n",
    "from sklearn.preprocessing import MinMaxScaler\n",
    "from sklearn.cluster import KMeans"
   ]
  },
  {
   "cell_type": "code",
   "execution_count": 16,
   "metadata": {},
   "outputs": [
    {
     "data": {
      "text/html": [
       "<div>\n",
       "<style scoped>\n",
       "    .dataframe tbody tr th:only-of-type {\n",
       "        vertical-align: middle;\n",
       "    }\n",
       "\n",
       "    .dataframe tbody tr th {\n",
       "        vertical-align: top;\n",
       "    }\n",
       "\n",
       "    .dataframe thead th {\n",
       "        text-align: right;\n",
       "    }\n",
       "</style>\n",
       "<table border=\"1\" class=\"dataframe\">\n",
       "  <thead>\n",
       "    <tr style=\"text-align: right;\">\n",
       "      <th></th>\n",
       "      <th>SepalLengthCm</th>\n",
       "      <th>PetalLengthCm</th>\n",
       "    </tr>\n",
       "  </thead>\n",
       "  <tbody>\n",
       "    <tr>\n",
       "      <th>0</th>\n",
       "      <td>5.1</td>\n",
       "      <td>1.4</td>\n",
       "    </tr>\n",
       "    <tr>\n",
       "      <th>1</th>\n",
       "      <td>4.9</td>\n",
       "      <td>1.4</td>\n",
       "    </tr>\n",
       "    <tr>\n",
       "      <th>2</th>\n",
       "      <td>4.7</td>\n",
       "      <td>1.3</td>\n",
       "    </tr>\n",
       "    <tr>\n",
       "      <th>3</th>\n",
       "      <td>4.6</td>\n",
       "      <td>1.5</td>\n",
       "    </tr>\n",
       "    <tr>\n",
       "      <th>4</th>\n",
       "      <td>5.0</td>\n",
       "      <td>1.4</td>\n",
       "    </tr>\n",
       "  </tbody>\n",
       "</table>\n",
       "</div>"
      ],
      "text/plain": [
       "   SepalLengthCm  PetalLengthCm\n",
       "0            5.1            1.4\n",
       "1            4.9            1.4\n",
       "2            4.7            1.3\n",
       "3            4.6            1.5\n",
       "4            5.0            1.4"
      ]
     },
     "execution_count": 16,
     "metadata": {},
     "output_type": "execute_result"
    }
   ],
   "source": [
    "df = pd.read_csv(\"iris.csv\")\n",
    "df_mod = df[[\"SepalLengthCm\", \"PetalLengthCm\"]] # nos quedamos solo con dos columnas\n",
    "\n",
    "df_mod.head() # imprimimos las priemras 5 filas "
   ]
  },
  {
   "cell_type": "markdown",
   "metadata": {},
   "source": [
    "Este algoritmo es sensible a las diferencias numéricas grandes por lo que antes de crear el modelo necesitamos re-escalar los datos. Este tema lo explico en detalle en el articulo Prep-procesamiento, el cual recomiendo que lean si tienen dudas al respecto."
   ]
  },
  {
   "cell_type": "code",
   "execution_count": 17,
   "metadata": {},
   "outputs": [
    {
     "data": {
      "text/html": [
       "<div>\n",
       "<style scoped>\n",
       "    .dataframe tbody tr th:only-of-type {\n",
       "        vertical-align: middle;\n",
       "    }\n",
       "\n",
       "    .dataframe tbody tr th {\n",
       "        vertical-align: top;\n",
       "    }\n",
       "\n",
       "    .dataframe thead th {\n",
       "        text-align: right;\n",
       "    }\n",
       "</style>\n",
       "<table border=\"1\" class=\"dataframe\">\n",
       "  <thead>\n",
       "    <tr style=\"text-align: right;\">\n",
       "      <th></th>\n",
       "      <th>SepalLengthCm</th>\n",
       "      <th>PetalLengthCm</th>\n",
       "    </tr>\n",
       "  </thead>\n",
       "  <tbody>\n",
       "    <tr>\n",
       "      <th>0</th>\n",
       "      <td>0.222222</td>\n",
       "      <td>0.067797</td>\n",
       "    </tr>\n",
       "    <tr>\n",
       "      <th>1</th>\n",
       "      <td>0.166667</td>\n",
       "      <td>0.067797</td>\n",
       "    </tr>\n",
       "    <tr>\n",
       "      <th>2</th>\n",
       "      <td>0.111111</td>\n",
       "      <td>0.050847</td>\n",
       "    </tr>\n",
       "    <tr>\n",
       "      <th>3</th>\n",
       "      <td>0.083333</td>\n",
       "      <td>0.084746</td>\n",
       "    </tr>\n",
       "    <tr>\n",
       "      <th>4</th>\n",
       "      <td>0.194444</td>\n",
       "      <td>0.067797</td>\n",
       "    </tr>\n",
       "  </tbody>\n",
       "</table>\n",
       "</div>"
      ],
      "text/plain": [
       "   SepalLengthCm  PetalLengthCm\n",
       "0       0.222222       0.067797\n",
       "1       0.166667       0.067797\n",
       "2       0.111111       0.050847\n",
       "3       0.083333       0.084746\n",
       "4       0.194444       0.067797"
      ]
     },
     "execution_count": 17,
     "metadata": {},
     "output_type": "execute_result"
    }
   ],
   "source": [
    "# Creamos el objeto escalador\n",
    "escalador = MinMaxScaler().fit(df_mod.values) \n",
    "\n",
    "# Creo un nuevo dataframe con los datos reescalados\n",
    "df_esc = pd.DataFrame(escalador.transform(df_mod.values),\n",
    "                    columns=[\"SepalLengthCm\", \"PetalLengthCm\"]) \n",
    "\n",
    "df_esc.head()"
   ]
  },
  {
   "cell_type": "markdown",
   "metadata": {},
   "source": [
    "Ahora vamos a aplicar el método del codo para determinar el número optimo de clusters (k) que queremos formar. Este método calcula la inercia (suma de las distancias al cuadrado de cada dato del cluster al centroide) a partir de aplicar el k-mean con diferentes valores de k. A medida que el número de k se va incrementando vemos un cambio brusco en la inercia, cuando este cambio pasa de ser brusco a ser mas leve, ese es el número de clusters que deberíamos utilizar. Esto queda mas claro en un gráfico como el que vamos a generar a continuación. Si imaginamos que la curva del grafico es un brazo y el punto en el que la pendiente cambia bruscamente el codo, comprenderemos de donde viene el nombre del método "
   ]
  },
  {
   "cell_type": "code",
   "execution_count": 18,
   "metadata": {},
   "outputs": [
    {
     "data": {
      "image/png": "[encoded data removed]",
      "text/plain": [
       "<Figure size 800x500 with 1 Axes>"
      ]
     },
     "metadata": {
      "needs_background": "light"
     },
     "output_type": "display_data"
    }
   ],
   "source": [
    "# Creamos una lista vacia en la cual vamos a ir almacenando los valores de la inercia a distinto número de k\n",
    "inercias = []\n",
    "\n",
    "# Creamos un bucle en el cual crearemos modelos del algoritmo en un rango de 2 a 9 centroides (k)\n",
    "for k in range(2, 10):\n",
    "    kmeans = KMeans(n_clusters=k).fit(df_esc.values)\n",
    "    inercias.append(kmeans.inertia_) # Calculamos la inercia de cada iteracion y la almacenamos en la lista\n",
    "\n",
    "# Creamos el gráfico para poder analizar visualmente el metodo\n",
    "plt.figure(figsize=(8,5), dpi=100)\n",
    "plt.scatter(range(2,10), inercias, marker=\"o\", s=100, color=\"purple\")\n",
    "plt.xlabel(\"numero de clusters\", fontsize=25)\n",
    "plt.ylabel(\"inercia\", fontsize=25)\n",
    "plt.show()"
   ]
  },
  {
   "cell_type": "markdown",
   "metadata": {},
   "source": [
    "Podemos ver que el \"codo\" del gráfico está entre k=4 y k=5. Para continuar con el ejemplo vamos a crear un modelo con k=4, agregamos una columna al dataset con las etiquetas (labels) y veamos como queda graficado."
   ]
  },
  {
   "cell_type": "code",
   "execution_count": 19,
   "metadata": {},
   "outputs": [
    {
     "data": {
      "text/plain": [
       "array([0, 0, 0, 0, 0, 0, 0, 0, 0, 0, 0, 0, 0, 0, 0, 0, 0, 0, 0, 0, 0, 0,\n",
       "       0, 0, 0, 0, 0, 0, 0, 0, 0, 0, 0, 0, 0, 0, 0, 0, 0, 0, 0, 0, 0, 0,\n",
       "       0, 0, 0, 0, 0, 0, 1, 1, 1, 2, 1, 2, 1, 2, 1, 2, 2, 2, 2, 1, 2, 1,\n",
       "       2, 2, 1, 2, 2, 2, 1, 1, 1, 1, 1, 1, 2, 2, 2, 2, 2, 1, 2, 2, 1, 1,\n",
       "       2, 2, 2, 1, 2, 2, 2, 2, 2, 1, 2, 2, 1, 2, 3, 1, 1, 3, 2, 3, 1, 3,\n",
       "       1, 1, 1, 2, 2, 1, 1, 3, 3, 1, 1, 2, 3, 1, 1, 3, 1, 1, 1, 3, 3, 3,\n",
       "       1, 1, 1, 3, 1, 1, 1, 1, 1, 1, 2, 1, 1, 1, 1, 1, 1, 1])"
      ]
     },
     "execution_count": 19,
     "metadata": {},
     "output_type": "execute_result"
    }
   ],
   "source": [
    "# Creo el modelo con k=4\n",
    "kmeans = KMeans(n_clusters=4).fit(df_esc.values)\n",
    "\n",
    "# Vamos el array de etiquetas\n",
    "kmeans.labels_\n"
   ]
  },
  {
   "cell_type": "markdown",
   "metadata": {},
   "source": [
    "Agregamos la columna que nos diga a que cluster pertenece el dato"
   ]
  },
  {
   "cell_type": "code",
   "execution_count": 20,
   "metadata": {},
   "outputs": [
    {
     "data": {
      "text/html": [
       "<div>\n",
       "<style scoped>\n",
       "    .dataframe tbody tr th:only-of-type {\n",
       "        vertical-align: middle;\n",
       "    }\n",
       "\n",
       "    .dataframe tbody tr th {\n",
       "        vertical-align: top;\n",
       "    }\n",
       "\n",
       "    .dataframe thead th {\n",
       "        text-align: right;\n",
       "    }\n",
       "</style>\n",
       "<table border=\"1\" class=\"dataframe\">\n",
       "  <thead>\n",
       "    <tr style=\"text-align: right;\">\n",
       "      <th></th>\n",
       "      <th>SepalLengthCm</th>\n",
       "      <th>PetalLengthCm</th>\n",
       "      <th>Cluster</th>\n",
       "    </tr>\n",
       "  </thead>\n",
       "  <tbody>\n",
       "    <tr>\n",
       "      <th>0</th>\n",
       "      <td>0.222222</td>\n",
       "      <td>0.067797</td>\n",
       "      <td>0</td>\n",
       "    </tr>\n",
       "    <tr>\n",
       "      <th>1</th>\n",
       "      <td>0.166667</td>\n",
       "      <td>0.067797</td>\n",
       "      <td>0</td>\n",
       "    </tr>\n",
       "    <tr>\n",
       "      <th>2</th>\n",
       "      <td>0.111111</td>\n",
       "      <td>0.050847</td>\n",
       "      <td>0</td>\n",
       "    </tr>\n",
       "    <tr>\n",
       "      <th>3</th>\n",
       "      <td>0.083333</td>\n",
       "      <td>0.084746</td>\n",
       "      <td>0</td>\n",
       "    </tr>\n",
       "    <tr>\n",
       "      <th>4</th>\n",
       "      <td>0.194444</td>\n",
       "      <td>0.067797</td>\n",
       "      <td>0</td>\n",
       "    </tr>\n",
       "    <tr>\n",
       "      <th>...</th>\n",
       "      <td>...</td>\n",
       "      <td>...</td>\n",
       "      <td>...</td>\n",
       "    </tr>\n",
       "    <tr>\n",
       "      <th>145</th>\n",
       "      <td>0.666667</td>\n",
       "      <td>0.711864</td>\n",
       "      <td>1</td>\n",
       "    </tr>\n",
       "    <tr>\n",
       "      <th>146</th>\n",
       "      <td>0.555556</td>\n",
       "      <td>0.677966</td>\n",
       "      <td>1</td>\n",
       "    </tr>\n",
       "    <tr>\n",
       "      <th>147</th>\n",
       "      <td>0.611111</td>\n",
       "      <td>0.711864</td>\n",
       "      <td>1</td>\n",
       "    </tr>\n",
       "    <tr>\n",
       "      <th>148</th>\n",
       "      <td>0.527778</td>\n",
       "      <td>0.745763</td>\n",
       "      <td>1</td>\n",
       "    </tr>\n",
       "    <tr>\n",
       "      <th>149</th>\n",
       "      <td>0.444444</td>\n",
       "      <td>0.694915</td>\n",
       "      <td>1</td>\n",
       "    </tr>\n",
       "  </tbody>\n",
       "</table>\n",
       "<p>150 rows × 3 columns</p>\n",
       "</div>"
      ],
      "text/plain": [
       "     SepalLengthCm  PetalLengthCm  Cluster\n",
       "0         0.222222       0.067797        0\n",
       "1         0.166667       0.067797        0\n",
       "2         0.111111       0.050847        0\n",
       "3         0.083333       0.084746        0\n",
       "4         0.194444       0.067797        0\n",
       "..             ...            ...      ...\n",
       "145       0.666667       0.711864        1\n",
       "146       0.555556       0.677966        1\n",
       "147       0.611111       0.711864        1\n",
       "148       0.527778       0.745763        1\n",
       "149       0.444444       0.694915        1\n",
       "\n",
       "[150 rows x 3 columns]"
      ]
     },
     "execution_count": 20,
     "metadata": {},
     "output_type": "execute_result"
    }
   ],
   "source": [
    "df_esc[\"Cluster\"] = kmeans.labels_\n",
    "\n",
    "df_esc"
   ]
  },
  {
   "cell_type": "markdown",
   "metadata": {},
   "source": [
    "Y creamos el gráfico"
   ]
  },
  {
   "cell_type": "code",
   "execution_count": 21,
   "metadata": {},
   "outputs": [
    {
     "data": {
      "image/png": "[encoded data removed]",
      "text/plain": [
       "<Figure size 600x500 with 1 Axes>"
      ]
     },
     "metadata": {
      "needs_background": "light"
     },
     "output_type": "display_data"
    }
   ],
   "source": [
    "plt.figure(figsize=(6,5), dpi=100)\n",
    "\n",
    "colores = [\"red\", \"blue\", \"green\", \"yellow\"]\n",
    "\n",
    "for cluster in range(kmeans.n_clusters):\n",
    "    plt.scatter(df_esc[df_esc[\"Cluster\"] == cluster][\"SepalLengthCm\"],\n",
    "                df_esc[df_esc[\"Cluster\"] == cluster][\"PetalLengthCm\"],\n",
    "                marker=\"o\", s=50, color=colores[cluster])\n",
    "\n",
    "    plt.scatter(kmeans.cluster_centers_[cluster][0],\n",
    "                kmeans.cluster_centers_[cluster][1],\n",
    "                marker=\"*\", s=200, color=\"black\")\n",
    "\n",
    "plt.show()"
   ]
  },
  {
   "cell_type": "markdown",
   "metadata": {},
   "source": [
    "Podemos ver como los datos se agrupan alrededor de las estrellas negras que son nuestros centroides"
   ]
  },
  {
   "cell_type": "markdown",
   "metadata": {},
   "source": [
    "Si alguno conoce este dataset sabrá que la flor iris se agrupa en tres subgrupos y no en cuatro. Por esto les remarco que el método del codo sirve como guía para empezar a experimentar, pero para determinar el numero adecuado de clusters necesitamos analizar y conocer los datos en profundidad. Dicho esto la metodología que se utiliza al aplicar este algoritmo es siempre muy similar: examinar el dataset, pre-procesar los datos, crear el modelo, evaluar los gráficos y resultados, y asignar etiquetas. En próximos post veremos la aplicación de algoritmos de aprendizaje supervisado, o sea con datos etiquetados. Hasta la próxima!"
   ]
  }
 ],
 "metadata": {
  "kernelspec": {
   "display_name": "Python 3 (ipykernel)",
   "language": "python",
   "name": "python3"
  },
  "language_info": {
   "codemirror_mode": {
    "name": "ipython",
    "version": 3
   },
   "file_extension": ".py",
   "mimetype": "text/x-python",
   "name": "python",
   "nbconvert_exporter": "python",
   "pygments_lexer": "ipython3",
   "version": "3.9.12"
  },
  "vscode": {
   "interpreter": {
    "hash": "b013054262fde0fcf5dbaa9a780ae155ea2baa8d303951c2b6292fa4c49a0cf8"
   }
  }
 },
 "nbformat": 4,
 "nbformat_minor": 2
}
